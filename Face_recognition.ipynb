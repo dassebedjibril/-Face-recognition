{
 "cells": [
  {
   "cell_type": "markdown",
   "metadata": {},
   "source": [
    "# Face recognition"
   ]
  },
  {
   "cell_type": "markdown",
   "metadata": {},
   "source": [
    "#### Face Detection with OpenCV"
   ]
  },
  {
   "cell_type": "markdown",
   "metadata": {},
   "source": [
    "Why are we using OpenCV? I think in the simplest terms is that OpenCV is the most prominent and widely used computer vision related library. In addition with it’s support of Python and C++ along with it’s features it allows for algorithms such as face detection to be implemented efficiently."
   ]
  },
  {
   "cell_type": "code",
   "execution_count": null,
   "metadata": {},
   "outputs": [],
   "source": [
    "# Face Recognition\n",
    "\n",
    "# We import the opencv library\n",
    "import cv2\n",
    "\n",
    " # We load the cascade for the face.\n",
    "face_cascade = cv2.CascadeClassifier('haarcascade_frontalface_default.xml')\n",
    " # We load the cascade for the eyes.\n",
    "eye_cascade = cv2.CascadeClassifier('haarcascade_eye.xml')\n",
    "\n",
    "# We create a function that takes as input the image in black and white (gray) and \n",
    "#the original image (frame), and that will return the same image with the detector rectangles.\n",
    "\n",
    "def detect(gray, frame):  \n",
    "    # We apply the detectMultiScale method from the face cascade to locate one or several faces in the image\n",
    "    faces = face_cascade.detectMultiScale(gray, 1.3, 5) \n",
    "    # For each detected face:\n",
    "    for (x, y, w, h) in faces:\n",
    "        # We paint a rectangle around the face in Green (BGR)\n",
    "        cv2.rectangle(frame, (x, y), (x+w, y+h), (255, 0, 0), 2) \n",
    "         # We get the region of interest in the black and white image.\n",
    "        roi_gray = gray[y:y+h, x:x+w]\n",
    "        # We get the region of interest in the colored image.\n",
    "        roi_color = frame[y:y+h, x:x+w] \n",
    "        # We apply the detectMultiScale method to locate one or several eyes in the image.\n",
    "        eyes = eye_cascade.detectMultiScale(roi_gray, 1.1, 3) \n",
    "        # For each detected eye:\n",
    "        for (ex, ey, ew, eh) in eyes: \n",
    "             # We paint a rectangle around the eyes, but inside the referential of the face in Blue (BGR)\n",
    "            cv2.rectangle(roi_color,(ex, ey),(ex+ew, ey+eh), (0, 255, 0), 2)\n",
    "             # We return the image with the detector rectangles.\n",
    "    return frame \n",
    "# We turn the webcam on that's why we take 0.\n",
    "video_capture = cv2.VideoCapture(0) \n",
    " # We repeat infinitely (until break):\n",
    "while True:\n",
    "     # We get the last frame or the scond argument in video capture\n",
    "    _, frame = video_capture.read()\n",
    "    # We do some colour transformations.\n",
    "    gray = cv2.cvtColor(frame, cv2.COLOR_BGR2GRAY)\n",
    "    # We get the output of our detect function.\n",
    "    canvas = detect(gray, frame) \n",
    "     # We display the outputs.\n",
    "    cv2.imshow('Video', canvas)\n",
    "     # If we type on the keyboard:\n",
    "    if cv2.waitKey(1) & 0xFF == ord('q'):\n",
    "         # We stop the loop.\n",
    "        break\n",
    "# We turn the webcam off.\n",
    "video_capture.release() \n",
    "# We destroy all the windows inside which the images were displayed.\n",
    "cv2.destroyAllWindows() "
   ]
  },
  {
   "cell_type": "markdown",
   "metadata": {},
   "source": [
    "![](files/picture.png)"
   ]
  },
  {
   "cell_type": "markdown",
   "metadata": {},
   "source": [
    "## Output"
   ]
  },
  {
   "cell_type": "markdown",
   "metadata": {},
   "source": [
    "![](files/a.png)"
   ]
  },
  {
   "cell_type": "markdown",
   "metadata": {},
   "source": [
    "![](files/b.png)"
   ]
  }
 ],
 "metadata": {
  "kernelspec": {
   "display_name": "Python 3",
   "language": "python",
   "name": "python3"
  },
  "language_info": {
   "codemirror_mode": {
    "name": "ipython",
    "version": 3
   },
   "file_extension": ".py",
   "mimetype": "text/x-python",
   "name": "python",
   "nbconvert_exporter": "python",
   "pygments_lexer": "ipython3",
   "version": "3.7.3"
  }
 },
 "nbformat": 4,
 "nbformat_minor": 2
}
